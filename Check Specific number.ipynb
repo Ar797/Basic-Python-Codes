{
 "cells": [
  {
   "cell_type": "code",
   "execution_count": 25,
   "metadata": {},
   "outputs": [
    {
     "name": "stdout",
     "output_type": "stream",
     "text": [
      "Enter any value: 70\n",
      "No, values in the list are not greater than 70\n"
     ]
    }
   ],
   "source": [
    "val = int(input (\"Enter any value: \"))\n",
    "def check(list, val): \n",
    "    return(all(x > val for x in list))      \n",
    "\n",
    "list =[10, 20, 30, 40, 50, 60] \n",
    "if(check(list, val)): \n",
    "    print (\"Yes, values in the list are greater than \" + str(val))\n",
    "else: \n",
    "    print (\"No, values in the list are not greater than \" + str(val))   "
   ]
  },
  {
   "cell_type": "code",
   "execution_count": null,
   "metadata": {},
   "outputs": [],
   "source": []
  },
  {
   "cell_type": "code",
   "execution_count": null,
   "metadata": {},
   "outputs": [],
   "source": []
  }
 ],
 "metadata": {
  "kernelspec": {
   "display_name": "Python 3",
   "language": "python",
   "name": "python3"
  },
  "language_info": {
   "codemirror_mode": {
    "name": "ipython",
    "version": 3
   },
   "file_extension": ".py",
   "mimetype": "text/x-python",
   "name": "python",
   "nbconvert_exporter": "python",
   "pygments_lexer": "ipython3",
   "version": "3.7.6"
  }
 },
 "nbformat": 4,
 "nbformat_minor": 4
}
