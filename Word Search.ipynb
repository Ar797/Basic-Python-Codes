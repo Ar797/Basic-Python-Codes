{
 "cells": [
  {
   "cell_type": "code",
   "execution_count": 1,
   "metadata": {},
   "outputs": [
    {
     "name": "stdout",
     "output_type": "stream",
     "text": [
      "Give the filename, Please:New Mail.ipynb\n",
      "What should we search for?:mail\n",
      "mail  does not exist in the given file.\n",
      "mail  does not exist in the given file.\n",
      "mail  does not exist in the given file.\n",
      "mail  does not exist in the given file.\n",
      "mail  does not exist in the given file.\n",
      "mail  does not exist in the given file.\n",
      "mail  does not exist in the given file.\n",
      "mail  does not exist in the given file.\n",
      "mail  does not exist in the given file.\n",
      "mail  does not exist in the given file.\n",
      "mail  does not exist in the given file.\n",
      "mail  does not exist in the given file.\n",
      "mail  does not exist in the given file.\n",
      "mail  does not exist in the given file.\n",
      "mail  does not exist in the given file.\n",
      "mail  does not exist in the given file.\n",
      "mail  does not exist in the given file.\n",
      "mail  does not exist in the given file.\n",
      "mail  does not exist in the given file.\n",
      "mail  does not exist in the given file.\n",
      "mail  does not exist in the given file.\n",
      "mail  does not exist in the given file.\n",
      "mail  does not exist in the given file.\n",
      "mail  does not exist in the given file.\n",
      "mail  does not exist in the given file.\n",
      "mail  does not exist in the given file.\n",
      "mail  does not exist in the given file.\n",
      "mail  does not exist in the given file.\n",
      "mail  does not exist in the given file.\n",
      "mail  does not exist in the given file.\n",
      "mail  does not exist in the given file.\n",
      "mail  does not exist in the given file.\n",
      "mail  does not exist in the given file.\n",
      "mail  does not exist in the given file.\n",
      "mail  does not exist in the given file.\n",
      "mail  does not exist in the given file.\n",
      "mail  does not exist in the given file.\n",
      "mail  does not exist in the given file.\n",
      "mail  does not exist in the given file.\n",
      "mail  does not exist in the given file.\n",
      "mail  does not exist in the given file.\n",
      "mail  does not exist in the given file.\n",
      "mail  does not exist in the given file.\n",
      "mail  does not exist in the given file.\n",
      "mail  does not exist in the given file.\n",
      "mail  does not exist in the given file.\n",
      "mail  does not exist in the given file.\n",
      "mail  does not exist in the given file.\n",
      "mail  does not exist in the given file.\n",
      "mail  does not exist in the given file.\n",
      "mail  does not exist in the given file.\n",
      "mail  does not exist in the given file.\n",
      "mail  does not exist in the given file.\n",
      "mail  does not exist in the given file.\n",
      "mail  does not exist in the given file.\n",
      "mail  does not exist in the given file.\n",
      "mail  does not exist in the given file.\n"
     ]
    },
    {
     "ename": "KeyError",
     "evalue": "'mail'",
     "output_type": "error",
     "traceback": [
      "\u001b[1;31m---------------------------------------------------------------------------\u001b[0m",
      "\u001b[1;31mKeyError\u001b[0m                                  Traceback (most recent call last)",
      "\u001b[1;32m<ipython-input-1-3cd4def81509>\u001b[0m in \u001b[0;36m<module>\u001b[1;34m\u001b[0m\n\u001b[0;32m     16\u001b[0m             \u001b[0mprint\u001b[0m\u001b[1;33m(\u001b[0m\u001b[0mwords\u001b[0m\u001b[1;33m,\u001b[0m \u001b[1;34m' does not exist in the given file.'\u001b[0m\u001b[1;33m)\u001b[0m\u001b[1;33m\u001b[0m\u001b[1;33m\u001b[0m\u001b[0m\n\u001b[0;32m     17\u001b[0m \u001b[1;33m\u001b[0m\u001b[0m\n\u001b[1;32m---> 18\u001b[1;33m \u001b[0mprint\u001b[0m\u001b[1;33m(\u001b[0m\u001b[1;34m'The frequency of the word '\u001b[0m\u001b[1;33m,\u001b[0m \u001b[0mwords\u001b[0m\u001b[1;33m,\u001b[0m \u001b[1;34m' is '\u001b[0m\u001b[1;33m,\u001b[0m \u001b[0md\u001b[0m\u001b[1;33m[\u001b[0m\u001b[0mwords\u001b[0m\u001b[1;33m]\u001b[0m\u001b[1;33m)\u001b[0m\u001b[1;33m\u001b[0m\u001b[1;33m\u001b[0m\u001b[0m\n\u001b[0m",
      "\u001b[1;31mKeyError\u001b[0m: 'mail'"
     ]
    }
   ],
   "source": [
    "filename = input('Give the filename, Please:')\n",
    "pattern = input('What should we search for?:')\n",
    "search = open(filename)\n",
    "if search:\n",
    "    d = dict()\n",
    "    for x in search:\n",
    "        x = x.rstrip()\n",
    "        word = x.split()\n",
    "        if word.count(pattern) > 0:\n",
    "            for y in pattern:\n",
    "                if y in d:\n",
    "                    d[y] += 1\n",
    "                else:\n",
    "                    d[y] = 1\n",
    "        else:\n",
    "            print(pattern, ' does not exist in the given file.')\n",
    "\n",
    "print('The frequency of the word ', pattern, ' is ', d[pattern])\n"
   ]
  },
  {
   "cell_type": "code",
   "execution_count": null,
   "metadata": {},
   "outputs": [],
   "source": []
  }
 ],
 "metadata": {
  "kernelspec": {
   "display_name": "Python 3",
   "language": "python",
   "name": "python3"
  },
  "language_info": {
   "codemirror_mode": {
    "name": "ipython",
    "version": 3
   },
   "file_extension": ".py",
   "mimetype": "text/x-python",
   "name": "python",
   "nbconvert_exporter": "python",
   "pygments_lexer": "ipython3",
   "version": "3.7.4"
  }
 },
 "nbformat": 4,
 "nbformat_minor": 2
}
