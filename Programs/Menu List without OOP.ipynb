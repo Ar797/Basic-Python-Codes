{
 "cells": [
  {
   "cell_type": "code",
   "execution_count": 1,
   "metadata": {},
   "outputs": [],
   "source": [
    "import pandas as pd\n",
    "from pandas import DataFrame\n",
    "import numpy as np"
   ]
  },
  {
   "cell_type": "markdown",
   "metadata": {},
   "source": [
    "#An Inventory with 5 Menus, Prices and Quantity Available"
   ]
  },
  {
   "cell_type": "code",
   "execution_count": 2,
   "metadata": {},
   "outputs": [],
   "source": [
    "Food= [\"Chips\",\"Barbecue\",\"Salad\",\"Bread\",\"Spaghetti\"]\n",
    "Price= [\"1000\",\"2800\",\"1050\",\"500\",\"950\"]\n",
    "Quantity= [\"10\",\"14\",\"23\",\"50\",\"20\"]"
   ]
  },
  {
   "cell_type": "code",
   "execution_count": 3,
   "metadata": {},
   "outputs": [],
   "source": [
    "Avail_goods= {}"
   ]
  },
  {
   "cell_type": "code",
   "execution_count": 4,
   "metadata": {},
   "outputs": [],
   "source": [
    "Avail_goods[\"Food_Menu\"]= Food\n",
    "Avail_goods[\"Price\"]= Price\n",
    "Avail_goods[\"Quantity\"]= Quantity"
   ]
  },
  {
   "cell_type": "code",
   "execution_count": 5,
   "metadata": {},
   "outputs": [
    {
     "name": "stdout",
     "output_type": "stream",
     "text": [
      "{'Food_Menu': ['Chips', 'Barbecue', 'Salad', 'Bread', 'Spaghetti'], 'Price': ['1000', '2800', '1050', '500', '950'], 'Quantity': ['10', '14', '23', '50', '20']}\n"
     ]
    }
   ],
   "source": [
    "print(Avail_goods)"
   ]
  },
  {
   "cell_type": "code",
   "execution_count": 6,
   "metadata": {},
   "outputs": [
    {
     "data": {
      "text/html": [
       "<div>\n",
       "<style scoped>\n",
       "    .dataframe tbody tr th:only-of-type {\n",
       "        vertical-align: middle;\n",
       "    }\n",
       "\n",
       "    .dataframe tbody tr th {\n",
       "        vertical-align: top;\n",
       "    }\n",
       "\n",
       "    .dataframe thead th {\n",
       "        text-align: right;\n",
       "    }\n",
       "</style>\n",
       "<table border=\"1\" class=\"dataframe\">\n",
       "  <thead>\n",
       "    <tr style=\"text-align: right;\">\n",
       "      <th></th>\n",
       "      <th>Food_Menu</th>\n",
       "      <th>Price</th>\n",
       "      <th>Quantity</th>\n",
       "    </tr>\n",
       "  </thead>\n",
       "  <tbody>\n",
       "    <tr>\n",
       "      <td>0</td>\n",
       "      <td>Chips</td>\n",
       "      <td>1000</td>\n",
       "      <td>10</td>\n",
       "    </tr>\n",
       "    <tr>\n",
       "      <td>1</td>\n",
       "      <td>Barbecue</td>\n",
       "      <td>2800</td>\n",
       "      <td>14</td>\n",
       "    </tr>\n",
       "    <tr>\n",
       "      <td>2</td>\n",
       "      <td>Salad</td>\n",
       "      <td>1050</td>\n",
       "      <td>23</td>\n",
       "    </tr>\n",
       "    <tr>\n",
       "      <td>3</td>\n",
       "      <td>Bread</td>\n",
       "      <td>500</td>\n",
       "      <td>50</td>\n",
       "    </tr>\n",
       "    <tr>\n",
       "      <td>4</td>\n",
       "      <td>Spaghetti</td>\n",
       "      <td>950</td>\n",
       "      <td>20</td>\n",
       "    </tr>\n",
       "  </tbody>\n",
       "</table>\n",
       "</div>"
      ],
      "text/plain": [
       "   Food_Menu Price Quantity\n",
       "0      Chips  1000       10\n",
       "1   Barbecue  2800       14\n",
       "2      Salad  1050       23\n",
       "3      Bread   500       50\n",
       "4  Spaghetti   950       20"
      ]
     },
     "execution_count": 6,
     "metadata": {},
     "output_type": "execute_result"
    }
   ],
   "source": [
    "Menu= DataFrame(Avail_goods, columns= [\"Food_Menu\",\"Price\",\"Quantity\"])\n",
    "Menu"
   ]
  },
  {
   "cell_type": "markdown",
   "metadata": {},
   "source": [
    "#A feature to add new food, and their prices and quantities and also to print the available food"
   ]
  },
  {
   "cell_type": "code",
   "execution_count": 7,
   "metadata": {},
   "outputs": [
    {
     "name": "stdout",
     "output_type": "stream",
     "text": [
      "Enter new Food: chicken\n",
      "Enter the Price: 3000\n",
      "Enter the Quantity: 32\n",
      "   Food_Menu Price Quantity\n",
      "0      Chips  1000       10\n",
      "1   Barbecue  2800       14\n",
      "2      Salad  1050       23\n",
      "3      Bread   500       50\n",
      "4  Spaghetti   950       20\n",
      "5    chicken  3000       32\n"
     ]
    }
   ],
   "source": [
    "def new_menu():\n",
    "    New_Food= input(\"Enter new Food: \")\n",
    "    New_Price= input (\"Enter the Price: \")\n",
    "    New_Quantity= input (\"Enter the Quantity: \")\n",
    "    Menu= DataFrame(Avail_goods, columns= [\"Food_Menu\",\"Price\",\"Quantity\"])\n",
    "    List= pd.DataFrame({\"Food_Menu\": New_Food, \"Price\":New_Price, \"Quantity\": New_Quantity}, index=[5])\n",
    "    Menu= Menu.append(List)\n",
    "    print(Menu)\n",
    "new_menu()\n"
   ]
  },
  {
   "cell_type": "code",
   "execution_count": null,
   "metadata": {},
   "outputs": [],
   "source": [
    "new_menu()"
   ]
  },
  {
   "cell_type": "code",
   "execution_count": 8,
   "metadata": {},
   "outputs": [],
   "source": [
    "#Menu.loc[Menu[\"Food_Menu\"]==\"Rice\"][\"Price\"]"
   ]
  },
  {
   "cell_type": "code",
   "execution_count": null,
   "metadata": {},
   "outputs": [],
   "source": []
  }
 ],
 "metadata": {
  "kernelspec": {
   "display_name": "Python 3",
   "language": "python",
   "name": "python3"
  },
  "language_info": {
   "codemirror_mode": {
    "name": "ipython",
    "version": 3
   },
   "file_extension": ".py",
   "mimetype": "text/x-python",
   "name": "python",
   "nbconvert_exporter": "python",
   "pygments_lexer": "ipython3",
   "version": "3.7.4"
  }
 },
 "nbformat": 4,
 "nbformat_minor": 4
}
