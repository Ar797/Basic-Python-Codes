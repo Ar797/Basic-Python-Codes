{
 "cells": [
  {
   "cell_type": "code",
   "execution_count": 1,
   "metadata": {},
   "outputs": [
    {
     "name": "stdout",
     "output_type": "stream",
     "text": [
      "welcome to the birthday dictionary, we know the birthdays of: \n",
      "benjamin\n",
      "albert\n",
      "george\n",
      "enter the name of anybody and  i will give you their birthday:  benjamin\n",
      "benjamin 's birthday is  01/17/1706\n"
     ]
    }
   ],
   "source": [
    "#give name from list below and we tell you their birthdays\n",
    "birthdays = {\n",
    "     'benjamin':'01/17/1706',\n",
    "     'albert': '12/12/2000',\n",
    "     'george': '09/10/1993',\n",
    "  }\n",
    "print(\"welcome to the birthday dictionary, we know the birthdays of: \")\n",
    "for birthday in birthdays:\n",
    "    print(birthday)\n",
    "name = input(\"input a name from the list and  i will tell you their birthday:  \")\n",
    "for k,v in birthdays.items():\n",
    "    if name == k:\n",
    "          print(name,\"'s birthday is \", v)"
   ]
  },
  {
   "cell_type": "code",
   "execution_count": null,
   "metadata": {},
   "outputs": [],
   "source": []
  },
  {
   "cell_type": "code",
   "execution_count": null,
   "metadata": {},
   "outputs": [],
   "source": []
  }
 ],
 "metadata": {
  "kernelspec": {
   "display_name": "Python 3",
   "language": "python",
   "name": "python3"
  },
  "language_info": {
   "codemirror_mode": {
    "name": "ipython",
    "version": 3
   },
   "file_extension": ".py",
   "mimetype": "text/x-python",
   "name": "python",
   "nbconvert_exporter": "python",
   "pygments_lexer": "ipython3",
   "version": "3.8.3"
  }
 },
 "nbformat": 4,
 "nbformat_minor": 4
}
