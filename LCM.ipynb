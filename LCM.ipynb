{
 "cells": [
  {
   "cell_type": "markdown",
   "metadata": {},
   "source": [
    "# A Python program to get the least common multiple (LCM) of two positive integers"
   ]
  },
  {
   "cell_type": "code",
   "execution_count": null,
   "metadata": {},
   "outputs": [],
   "source": [
    "def lcm(x, y): #This function takes two integers and outputs the L.C.M.\n",
    " \n",
    "    # choose the greater number\n",
    "    if x > y:\n",
    "        l = x\n",
    "    else:\n",
    "        l = y\n",
    " \n",
    "    while True:\n",
    "        if (l % x == 0) and (l % y == 0):\n",
    "            lcm = l\n",
    "            break\n",
    "        l += 1\n",
    "    return lcm\n",
    " \n",
    "print(\"Find the LCM of two numbers by entering the numbers below; \") \n",
    "a = int(input(\"Enter the First Number: \"))\n",
    "b = int(input(\"Enter the Second Number: \"))\n",
    " \n",
    "print(\"The L.C.M. of\", a, \"and\", b, \"is\", lcm(a, b))"
   ]
  },
  {
   "cell_type": "code",
   "execution_count": null,
   "metadata": {},
   "outputs": [],
   "source": []
  }
 ],
 "metadata": {
  "kernelspec": {
   "display_name": "Python 3",
   "language": "python",
   "name": "python3"
  },
  "language_info": {
   "codemirror_mode": {
    "name": "ipython",
    "version": 3
   },
   "file_extension": ".py",
   "mimetype": "text/x-python",
   "name": "python",
   "nbconvert_exporter": "python",
   "pygments_lexer": "ipython3",
   "version": "3.7.6"
  }
 },
 "nbformat": 4,
 "nbformat_minor": 4
}
